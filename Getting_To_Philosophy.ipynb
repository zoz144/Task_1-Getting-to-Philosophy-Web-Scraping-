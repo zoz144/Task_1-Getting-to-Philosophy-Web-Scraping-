{
 "cells": [
  {
   "cell_type": "markdown",
   "metadata": {},
   "source": [
    "### Import libiraries."
   ]
  },
  {
   "cell_type": "code",
   "execution_count": 1,
   "metadata": {},
   "outputs": [],
   "source": [
    "from bs4 import BeautifulSoup\n",
    "import requests \n",
    "import time\n",
    "import re"
   ]
  },
  {
   "cell_type": "markdown",
   "metadata": {},
   "source": [
    "### Function to check if the link in parentheses, cite note, help link or not valid. "
   ]
  },
  {
   "cell_type": "code",
   "execution_count": 2,
   "metadata": {},
   "outputs": [],
   "source": [
    "def check_par(paragraph, link_text, link_url):\n",
    "    # Get all text in parentheses in the  given paragraph using regular expression.\n",
    "    word_list1 = re.findall('\\(([^)]+)', paragraph)\n",
    "    word_list2 = re.findall('\\[([^]]+)', paragraph)\n",
    "    \n",
    "    # If the link doesn't exist, return true\n",
    "    if(link_url == None) : return True\n",
    "    # If the link is cite note, return true\n",
    "    if('#cite' in link_url): return True\n",
    "    # If the link is help:IPA link, return true\n",
    "    if('Help:IPA' in link_url): return True\n",
    "    # If the link is in parentheses, return true\n",
    "    for subtext in word_list1:\n",
    "        if(link_text in subtext): return True\n",
    "    for subtext in word_list2:\n",
    "        if(link_text in subtext): return True\n",
    "    # Otherwise, return false    \n",
    "    return False  "
   ]
  },
  {
   "cell_type": "markdown",
   "metadata": {},
   "source": [
    "### Function to find the first normal link in paragraphs."
   ]
  },
  {
   "cell_type": "code",
   "execution_count": 3,
   "metadata": {},
   "outputs": [],
   "source": [
    "def find_link(paragraphs , loop_option):\n",
    "    \n",
    "    \n",
    "        link_url = ''\n",
    "        # For each paragraph in given paragraphs:\n",
    "        for paragraph in paragraphs:\n",
    "            # If there is links in the paragraph:\n",
    "            if(paragraph.find(\"a\")):\n",
    "                para_text = paragraph.getText()\n",
    "                links = paragraph.find_all('a')\n",
    "                # For each link in this paragraph:\n",
    "                for link in links:\n",
    "                    link_url = link.get('href')\n",
    "                    link_text = link.text\n",
    "                    \n",
    "                    # Check for this link using check_par function\n",
    "                    check = check_par(para_text, link_text, link_url)\n",
    "                                      \n",
    "                    if(loop_option == 'yes'): # If choose to stop when stuck in loop:             \n",
    "                        # If stuck in loop, stop.\n",
    "                        if(link_url in history): return 'We stuck in a loop :('\n",
    "                        # If the link is normal return. Otherwise, find the next link.              \n",
    "                        if(check == False): return link_url\n",
    "                    \n",
    "                    else: # If choose to complete with second normal link when stuck in loop:\n",
    "                        # Return the link only if it's normal and not repeated.              \n",
    "                        if((check == False) and (link_url not in history)):\n",
    "                            return link_url"
   ]
  },
  {
   "cell_type": "code",
   "execution_count": 4,
   "metadata": {},
   "outputs": [
    {
     "name": "stdout",
     "output_type": "stream",
     "text": [
      "Please Enter the URL of the wikipedia page ? https://en.wikipedia.org/wiki/Special:Random\n",
      "Do you want to stop when stuck in loop or complete with second normal link?\n",
      "type yes for first option. no\n",
      "/wiki/Hindi\n",
      "/wiki/Indo-Aryan_language\n",
      "/wiki/South_Asia\n",
      "/wiki/Asia\n",
      "/wiki/Earth\n",
      "/wiki/Planet\n",
      "/wiki/Astronomical_body\n",
      "/wiki/Astronomy\n",
      "/wiki/Natural_science\n",
      "/wiki/Branches_of_science\n",
      "/wiki/Science\n",
      "/wiki/Testability\n",
      "/wiki/Empirical\n",
      "/wiki/Information\n",
      "/wiki/Uncertainty\n",
      "/wiki/Epistemic\n",
      "/wiki/Greek_language\n",
      "/wiki/Indo-European_languages\n",
      "/wiki/Language_family\n",
      "/wiki/Language\n",
      "/wiki/Grammar\n",
      "/wiki/Linguistics\n",
      "/wiki/Theoretical_linguistics\n",
      "/wiki/Theory_of_language\n",
      "/wiki/Philosophy_of_language#Nature_of_language\n",
      "/wiki/Analytic_philosophy\n",
      "/wiki/Philosophy\n",
      "You have arrived :)\n"
     ]
    }
   ],
   "source": [
    "URL = input(\"Please Enter the URL of the wikipedia page ? \")\n",
    "loop_option = input('Do you want to stop when stuck in loop or complete with second normal link?\\ntype yes for first option. ')\n",
    "page = requests.get(URL).text\n",
    "history = []\n",
    "\n",
    "while True:\n",
    "    # Get the HTML of the page\n",
    "    soup = BeautifulSoup(page , 'html.parser')\n",
    "    # Find the class of the main page article\n",
    "    divv = soup.find(\"div\", {\"id\": \"mw-content-text\"})\n",
    "    div = divv.find(\"div\" , {\"class\": \"mw-parser-output\"})\n",
    "    # Get all direct paragraph children  \n",
    "    p = div.find_all(\"p\", attrs={'class': None} , recursive=False)\n",
    "    \n",
    "    # Find first normal link using find_link function and print it.\n",
    "    link = find_link(p, loop_option.lower())\n",
    "    print(link) \n",
    "        \n",
    "    # If we have repeated link with stop option, stop    \n",
    "    if(link ==  'We stuck in a loop :('): break    \n",
    "        \n",
    "    # If there are no links in all paragraphs, then that's a dead-end page    \n",
    "    if(link == \"\"):\n",
    "        print(\"This page has no links (Dead-End page)\")\n",
    "        break\n",
    "        \n",
    "    # Handle the link was to another site ( like wiktionary )      \n",
    "    if(\"https\" in link):\n",
    "        print('We are outside wikipeidia website')\n",
    "        page = requests.get(link).text\n",
    "        time.sleep(0.5)\n",
    "        continue\n",
    "        \n",
    "\n",
    "        \n",
    "    history.append(link)    \n",
    "    # Stop If the link is Philosophy page. Otherwise, Continue\n",
    "    if(link != \"/wiki/Philosophy\"):\n",
    "        url = \"https://en.wikipedia.org\" + link\n",
    "        page = requests.get(url).text\n",
    "        time.sleep(0.5)\n",
    "    else:\n",
    "        print(\"You have arrived :)\")\n",
    "        break"
   ]
  },
  {
   "cell_type": "markdown",
   "metadata": {},
   "source": [
    "# Notes:\n",
    "\n",
    "### Science and Language pages lead to loop."
   ]
  }
 ],
 "metadata": {
  "kernelspec": {
   "display_name": "Python 3",
   "language": "python",
   "name": "python3"
  },
  "language_info": {
   "codemirror_mode": {
    "name": "ipython",
    "version": 3
   },
   "file_extension": ".py",
   "mimetype": "text/x-python",
   "name": "python",
   "nbconvert_exporter": "python",
   "pygments_lexer": "ipython3",
   "version": "3.7.4"
  }
 },
 "nbformat": 4,
 "nbformat_minor": 2
}
